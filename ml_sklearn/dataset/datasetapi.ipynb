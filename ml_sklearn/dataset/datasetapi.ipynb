{
 "cells": [
  {
   "cell_type": "markdown",
   "metadata": {},
   "source": [
    "### toy dataset\n",
    "load_boston([return_X_y]) \tLoad and return the boston house-prices dataset (regression).                波士顿房价数据\n",
    "\n",
    "load_iris([return_X_y]) \tLoad and return the iris dataset (classification).                           鸢尾花数据\n",
    "\n",
    "load_diabetes([return_X_y]) \tLoad and return the diabetes dataset (regression).                       糖尿病数据\n",
    "\n",
    "load_digits([n_class, return_X_y]) \tLoad and return the digits dataset (classification).                 手写数字数据\n",
    "\n",
    "load_linnerud([return_X_y]) \tLoad and return the linnerud dataset (multivariate regression).           \n",
    "\n",
    "load_wine([return_X_y]) \tLoad and return the wine dataset (classification).                           啤酒数据\n",
    "\n",
    "load_breast_cancer([return_X_y]) \tLoad and return the breast cancer wisconsin dataset (classification).乳腺癌数据\n",
    "\n"
   ]
  },
  {
   "cell_type": "markdown",
   "metadata": {},
   "source": [
    "###  Sample images\n",
    "load_sample_images() \tLoad sample images for image manipulation.\n",
    "\n",
    "load_sample_image(image_name) \tLoad the numpy array of a single sample image"
   ]
  },
  {
   "cell_type": "code",
   "execution_count": 6,
   "metadata": {},
   "outputs": [
    {
     "name": "stdout",
     "output_type": "stream",
     "text": [
      "[[  6.32000000e-03   1.80000000e+01   2.31000000e+00 ...,   1.53000000e+01\n",
      "    3.96900000e+02   4.98000000e+00]\n",
      " [  2.73100000e-02   0.00000000e+00   7.07000000e+00 ...,   1.78000000e+01\n",
      "    3.96900000e+02   9.14000000e+00]\n",
      " [  2.72900000e-02   0.00000000e+00   7.07000000e+00 ...,   1.78000000e+01\n",
      "    3.92830000e+02   4.03000000e+00]\n",
      " ..., \n",
      " [  6.07600000e-02   0.00000000e+00   1.19300000e+01 ...,   2.10000000e+01\n",
      "    3.96900000e+02   5.64000000e+00]\n",
      " [  1.09590000e-01   0.00000000e+00   1.19300000e+01 ...,   2.10000000e+01\n",
      "    3.93450000e+02   6.48000000e+00]\n",
      " [  4.74100000e-02   0.00000000e+00   1.19300000e+01 ...,   2.10000000e+01\n",
      "    3.96900000e+02   7.88000000e+00]]\n",
      "(506, 13)\n"
     ]
    }
   ],
   "source": [
    "from sklearn.datasets import load_boston\n",
    "datas = load_boston()\n",
    "print(datas.data)\n",
    "print(datas.data.shape)"
   ]
  },
  {
   "cell_type": "code",
   "execution_count": 7,
   "metadata": {},
   "outputs": [
    {
     "data": {
      "text/plain": [
       "['malignant', 'benign']"
      ]
     },
     "execution_count": 7,
     "metadata": {},
     "output_type": "execute_result"
    }
   ],
   "source": [
    "from sklearn.datasets import load_breast_cancer\n",
    "data = load_breast_cancer()\n",
    "data.target[[10, 50, 85]]\n",
    "\n",
    "list(data.target_names)"
   ]
  },
  {
   "cell_type": "code",
   "execution_count": 13,
   "metadata": {},
   "outputs": [
    {
     "name": "stdout",
     "output_type": "stream",
     "text": [
      "2\n",
      "(427, 640, 3)\n",
      "(427, 640)\n"
     ]
    }
   ],
   "source": [
    "from sklearn.datasets import load_sample_images\n",
    "dataset = load_sample_images()     \n",
    "print(len(dataset.images))                \n",
    "first_img_data = dataset.images[0] \n",
    "print(first_img_data.shape )              \n",
    "first_img_data.dtype               \n",
    "print(first_img_data[:,:,1].shape)"
   ]
  },
  {
   "cell_type": "markdown",
   "metadata": {},
   "source": [
    "### Sample generators\n",
    "Generators for classification and clustering"
   ]
  },
  {
   "cell_type": "code",
   "execution_count": 14,
   "metadata": {},
   "outputs": [
    {
     "data": {
      "image/png": "[encoded data removed]",
      "text/plain": [
       "<matplotlib.figure.Figure at 0x1eff8cc2a90>"
      ]
     },
     "metadata": {},
     "output_type": "display_data"
    }
   ],
   "source": [
    "from sklearn.datasets import make_blobs\n",
    "from matplotlib import pyplot\n",
    "\n",
    "data, label = make_blobs(n_samples=100, n_features=2, centers=5)\n",
    "# 绘制样本显示\n",
    "pyplot.scatter(data[:, 0], data[:, 1], c=label)\n",
    "pyplot.show()"
   ]
  }
 ],
 "metadata": {
  "kernelspec": {
   "display_name": "Python 3",
   "language": "python",
   "name": "python3"
  },
  "language_info": {
   "codemirror_mode": {
    "name": "ipython",
    "version": 3.0
   },
   "file_extension": ".py",
   "mimetype": "text/x-python",
   "name": "python",
   "nbconvert_exporter": "python",
   "pygments_lexer": "ipython3",
   "version": "3.5.1"
  }
 },
 "nbformat": 4,
 "nbformat_minor": 0
}